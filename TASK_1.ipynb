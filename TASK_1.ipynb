{
 "cells": [
  {
   "cell_type": "raw",
   "id": "da4afeb2-55fa-4a14-8c43-729dc2545e4d",
   "metadata": {},
   "source": [
    "1.PRINT"
   ]
  },
  {
   "cell_type": "code",
   "execution_count": 18,
   "id": "0a9d5651-c9a1-41e3-beb8-321d40ef99ab",
   "metadata": {},
   "outputs": [
    {
     "name": "stdout",
     "output_type": "stream",
     "text": [
      "HELLO SIR\n"
     ]
    }
   ],
   "source": [
    "print(\"HELLO SIR\")"
   ]
  },
  {
   "cell_type": "raw",
   "id": "75511d88-5be3-47cd-bc64-aad2c3177bba",
   "metadata": {},
   "source": [
    "2.LINK"
   ]
  },
  {
   "cell_type": "markdown",
   "id": "8a710253-6016-4461-ad6d-36a987c2c122",
   "metadata": {},
   "source": [
    "https://www.wbkidsgo.com/"
   ]
  },
  {
   "cell_type": "raw",
   "id": "c4b24bdb-5e00-43b6-bf73-55525a17bc21",
   "metadata": {},
   "source": [
    "3.HORIZONTAL LINE"
   ]
  },
  {
   "cell_type": "markdown",
   "id": "93be94b5-f3b6-4fcd-b809-bd9c1429e7b3",
   "metadata": {},
   "source": [
    "--------\n",
    "\n",
    "THIS IS A LINE\n",
    "\n",
    "----------"
   ]
  },
  {
   "cell_type": "raw",
   "id": "7cf48b8c-7a0a-4da7-9295-6cd757dbbf82",
   "metadata": {},
   "source": [
    "4.BOLD "
   ]
  },
  {
   "cell_type": "markdown",
   "id": "b5ce026d-7b6b-473d-90a8-41bdcfdcb72b",
   "metadata": {},
   "source": [
    "**This is bold text**"
   ]
  },
  {
   "cell_type": "raw",
   "id": "220cb5f8-e802-429e-a7bc-a8257d58dbab",
   "metadata": {},
   "source": [
    "5.ITALIC"
   ]
  },
  {
   "cell_type": "markdown",
   "id": "e0ceb802-20f7-47fc-b7e7-708eb94d2dc2",
   "metadata": {},
   "source": [
    "*This is italic text*"
   ]
  },
  {
   "cell_type": "raw",
   "id": "4c5c9793-3a60-4274-8ef6-fe436f0ba347",
   "metadata": {},
   "source": [
    "6.BOLD & ITALIC"
   ]
  },
  {
   "cell_type": "markdown",
   "id": "749e1030-0f8d-43c1-9349-bf8a474e7590",
   "metadata": {},
   "source": [
    "***This is markdown Tutorial***"
   ]
  },
  {
   "cell_type": "raw",
   "id": "f5e85ad3-7baf-4c62-9ec0-90292534842f",
   "metadata": {},
   "source": [
    "7.ADD IMAGE"
   ]
  },
  {
   "cell_type": "markdown",
   "id": "ad08db86-7684-43e4-bc5d-2ea12ca0e580",
   "metadata": {},
   "source": [
    "[paython logo](https://www.google.com/search?q=python+logo&oq=python+logo&gs_lcrp=EgZjaHJvbWUyDAgAEEUYORixAxiABDIKCAEQABixAxiABDIHCAIQABiABDIHCAMQABiABDIHCAQQABiABDIHCAUQABiABDIHCAYQABiABDIHCAcQABiABDIHCAgQABiABDIHCAkQABiABNIBCDU3OTZqMGo3qAIAsAIA&sourceid=chrome&ie=UTF-8#vhid=WeuuGChNnHNCzM&vssid=_Duj3Ztu0CoeY4-EP3K6BgAo_32)"
   ]
  },
  {
   "cell_type": "raw",
   "id": "3ce97830-de7d-4bb0-b335-15b3e4cf0a8b",
   "metadata": {},
   "source": [
    "8.STRIKETHROUGH"
   ]
  },
  {
   "cell_type": "markdown",
   "id": "cf796384-301c-4715-8624-6367d749f21c",
   "metadata": {},
   "source": [
    "~~This is markdown Tutorial~~"
   ]
  },
  {
   "cell_type": "raw",
   "id": "3dd5ea54-9c54-4877-8623-acf38c5cb976",
   "metadata": {},
   "source": [
    "9.CODE BLOCKS"
   ]
  },
  {
   "cell_type": "markdown",
   "id": "372d8151-b538-44a5-9049-972310a412fb",
   "metadata": {},
   "source": [
    "This is 'markdown' tutorial"
   ]
  },
  {
   "cell_type": "raw",
   "id": "5f2f0220-b334-4341-a711-a73f8e00e88e",
   "metadata": {},
   "source": [
    "10.TASK LIST"
   ]
  },
  {
   "cell_type": "markdown",
   "id": "2dbcff3e-ccd5-4ac1-9a11-0a20b3bd7b3e",
   "metadata": {},
   "source": [
    "- [] TASK1\n",
    "- [X]TASK2\n",
    "- [] TASK3\n",
    "- [] TASK4"
   ]
  },
  {
   "cell_type": "raw",
   "id": "eb55b9c2-125d-4889-accf-ad718848150b",
   "metadata": {},
   "source": [
    "11.NUMBER LIST"
   ]
  },
  {
   "cell_type": "markdown",
   "id": "fb92a42f-8f2f-425a-8cbb-fb73631e48d5",
   "metadata": {},
   "source": [
    "1. Line number 1\n",
    "2. Line number 2"
   ]
  },
  {
   "cell_type": "raw",
   "id": "19a0a6dd-56fd-4b7b-b283-6b0b729282e4",
   "metadata": {},
   "source": [
    "12.LINE BREAK"
   ]
  },
  {
   "cell_type": "markdown",
   "id": "d41fcf0c-2d07-476c-943b-6f804942d679",
   "metadata": {},
   "source": [
    "Line break <br> line break"
   ]
  },
  {
   "cell_type": "raw",
   "id": "52d84670-ac17-4c56-a3e5-82455f3e15d9",
   "metadata": {},
   "source": [
    "13.COLOUR"
   ]
  },
  {
   "cell_type": "markdown",
   "id": "ba5c4f5d-903a-4102-a408-cbda58c8ba9e",
   "metadata": {},
   "source": [
    "<font color=red>front colour is red</font><br>\n",
    "<font color=blue>front colour is blue</font><br>\n",
    "<font color=yellow>front colour is yellow</font><br>\n",
    "<font color=purple>front colour is purple</font>"
   ]
  },
  {
   "cell_type": "raw",
   "id": "a33b33bc-25a2-46db-992e-ae4c750a9e86",
   "metadata": {},
   "source": [
    "14.INDENTED QUOTING"
   ]
  },
  {
   "cell_type": "markdown",
   "id": "488abc43-ba1b-4d24-a773-0e158a30153b",
   "metadata": {},
   "source": [
    "> This is 1st line of block code<br>This is 2nd line of block code"
   ]
  },
  {
   "cell_type": "raw",
   "id": "af34e39d-60cb-4344-868c-276e26a590ca",
   "metadata": {},
   "source": [
    "15.ARTHMATIC OPERATION"
   ]
  },
  {
   "cell_type": "code",
   "execution_count": 56,
   "id": "ec15015e-faed-4ac9-ac23-d9572a9f14c0",
   "metadata": {},
   "outputs": [
    {
     "data": {
      "text/plain": [
       "67"
      ]
     },
     "execution_count": 56,
     "metadata": {},
     "output_type": "execute_result"
    }
   ],
   "source": [
    "22+45"
   ]
  },
  {
   "cell_type": "code",
   "execution_count": 58,
   "id": "6fe8f914-7dd0-40a7-aaa3-f1931dc4e025",
   "metadata": {},
   "outputs": [
    {
     "data": {
      "text/plain": [
       "1125"
      ]
     },
     "execution_count": 58,
     "metadata": {},
     "output_type": "execute_result"
    }
   ],
   "source": [
    "45* 25"
   ]
  },
  {
   "cell_type": "code",
   "execution_count": 60,
   "id": "4def6ed0-6ba8-4409-b2f8-b2ca461383a9",
   "metadata": {},
   "outputs": [
    {
     "data": {
      "text/plain": [
       "125.0"
      ]
     },
     "execution_count": 60,
     "metadata": {},
     "output_type": "execute_result"
    }
   ],
   "source": [
    "625/5"
   ]
  },
  {
   "cell_type": "code",
   "execution_count": 62,
   "id": "bb0175ad-0ff4-49be-845b-2c140d460a2b",
   "metadata": {},
   "outputs": [
    {
     "data": {
      "text/plain": [
       "47"
      ]
     },
     "execution_count": 62,
     "metadata": {},
     "output_type": "execute_result"
    }
   ],
   "source": [
    "1123-1076"
   ]
  },
  {
   "cell_type": "code",
   "execution_count": null,
   "id": "b43691b0-8c12-4ad3-a7f9-39cb605b1614",
   "metadata": {},
   "outputs": [],
   "source": []
  }
 ],
 "metadata": {
  "kernelspec": {
   "display_name": "Python 3 (ipykernel)",
   "language": "python",
   "name": "python3"
  },
  "language_info": {
   "codemirror_mode": {
    "name": "ipython",
    "version": 3
   },
   "file_extension": ".py",
   "mimetype": "text/x-python",
   "name": "python",
   "nbconvert_exporter": "python",
   "pygments_lexer": "ipython3",
   "version": "3.12.4"
  }
 },
 "nbformat": 4,
 "nbformat_minor": 5
}
